{
  "nbformat": 4,
  "nbformat_minor": 0,
  "metadata": {
    "colab": {
      "name": "GMM_&_HMM.ipynb",
      "provenance": [],
      "collapsed_sections": []
    },
    "kernelspec": {
      "name": "python3",
      "display_name": "Python 3"
    },
    "language_info": {
      "name": "python"
    }
  },
  "cells": [
    {
      "cell_type": "code",
      "metadata": {
        "id": "Q9EWFWXOo2mq"
      },
      "source": [
        "DATA_BATH = \"/content/Clustering_gmm.csv\""
      ],
      "execution_count": null,
      "outputs": []
    },
    {
      "cell_type": "code",
      "metadata": {
        "id": "MJKwWc6-ps0I"
      },
      "source": [
        "import pandas as pd\n",
        "import numpy as np\n",
        "import matplotlib.pyplot as plt"
      ],
      "execution_count": null,
      "outputs": []
    },
    {
      "cell_type": "markdown",
      "metadata": {
        "id": "J_trhT19o43w"
      },
      "source": [
        "# GMM - Gaussian Mixture Models"
      ]
    },
    {
      "cell_type": "code",
      "metadata": {
        "colab": {
          "base_uri": "https://localhost:8080/"
        },
        "id": "67Rpqvsfp2sK",
        "outputId": "e541ff53-e412-413f-fea7-7f7abe4d1e7b"
      },
      "source": [
        "# Read the dataset\n",
        "data = pd.read_csv(DATA_BATH)\n",
        "data.shape"
      ],
      "execution_count": null,
      "outputs": [
        {
          "output_type": "execute_result",
          "data": {
            "text/plain": [
              "(500, 2)"
            ]
          },
          "metadata": {},
          "execution_count": 16
        }
      ]
    },
    {
      "cell_type": "code",
      "metadata": {
        "colab": {
          "base_uri": "https://localhost:8080/",
          "height": 282
        },
        "id": "aOKPn75ZuL9Y",
        "outputId": "5c02cbf2-79e1-4a2e-a56c-593450ff9f57"
      },
      "source": [
        "# Plot the dataset\n",
        "plt.scatter(data[\"Weight\"], data[\"Height\"])\n",
        "plt.show"
      ],
      "execution_count": null,
      "outputs": [
        {
          "output_type": "execute_result",
          "data": {
            "text/plain": [
              "<function matplotlib.pyplot.show>"
            ]
          },
          "metadata": {},
          "execution_count": 17
        },
        {
          "output_type": "display_data",
          "data": {
            "image/png": "[encoded data removed]",
            "text/plain": [
              "<Figure size 432x288 with 1 Axes>"
            ]
          },
          "metadata": {
            "needs_background": "light"
          }
        }
      ]
    },
    {
      "cell_type": "code",
      "metadata": {
        "colab": {
          "base_uri": "https://localhost:8080/"
        },
        "id": "2RLsycRSqYZ7",
        "outputId": "9577d40d-5c15-4eb7-9d21-53edcdb62891"
      },
      "source": [
        "# Train the model\n",
        "from sklearn.mixture import GaussianMixture\n",
        "gmm = GaussianMixture(n_components=4)\n",
        "gmm.fit(data)"
      ],
      "execution_count": null,
      "outputs": [
        {
          "output_type": "execute_result",
          "data": {
            "text/plain": [
              "GaussianMixture(covariance_type='full', init_params='kmeans', max_iter=100,\n",
              "                means_init=None, n_components=4, n_init=1, precisions_init=None,\n",
              "                random_state=None, reg_covar=1e-06, tol=0.001, verbose=0,\n",
              "                verbose_interval=10, warm_start=False, weights_init=None)"
            ]
          },
          "metadata": {},
          "execution_count": 18
        }
      ]
    },
    {
      "cell_type": "code",
      "metadata": {
        "colab": {
          "base_uri": "https://localhost:8080/"
        },
        "id": "ZL-8lxopqz0b",
        "outputId": "48739aba-83dc-46a0-967b-033e8fe3a293"
      },
      "source": [
        "# Prediction\n",
        "labels = gmm.predict(data)\n",
        "data[\"cluster\"] = labels\n",
        "data.columns"
      ],
      "execution_count": null,
      "outputs": [
        {
          "output_type": "execute_result",
          "data": {
            "text/plain": [
              "Index(['Weight', 'Height', 'cluster'], dtype='object')"
            ]
          },
          "metadata": {},
          "execution_count": 19
        }
      ]
    },
    {
      "cell_type": "code",
      "metadata": {
        "colab": {
          "base_uri": "https://localhost:8080/"
        },
        "id": "N8-sf8g4sXOj",
        "outputId": "d9b45775-819f-4c06-ab49-e04639c6d601"
      },
      "source": [
        "# Number of clusters\n",
        "len(data[\"cluster\"].unique())"
      ],
      "execution_count": null,
      "outputs": [
        {
          "output_type": "execute_result",
          "data": {
            "text/plain": [
              "4"
            ]
          },
          "metadata": {},
          "execution_count": 20
        }
      ]
    },
    {
      "cell_type": "code",
      "metadata": {
        "colab": {
          "base_uri": "https://localhost:8080/",
          "height": 282
        },
        "id": "de5T9STfriYA",
        "outputId": "933a34f5-5c60-46ec-cded-6fb9ba3e4590"
      },
      "source": [
        "# Plot the clusters\n",
        "color = [\"b\", \"g\", \"c\", \"r\"]\n",
        "for k in range(len(data[\"cluster\"].unique())):\n",
        "    cluster = data[data[\"cluster\"] == k]\n",
        "    plt.scatter(cluster[\"Weight\"], cluster[\"Height\"], c=color[k])\n",
        "plt.show"
      ],
      "execution_count": null,
      "outputs": [
        {
          "output_type": "execute_result",
          "data": {
            "text/plain": [
              "<function matplotlib.pyplot.show>"
            ]
          },
          "metadata": {},
          "execution_count": 21
        },
        {
          "output_type": "display_data",
          "data": {
            "image/png": "[encoded data removed]",
            "text/plain": [
              "<Figure size 432x288 with 1 Axes>"
            ]
          },
          "metadata": {
            "needs_background": "light"
          }
        }
      ]
    },
    {
      "cell_type": "markdown",
      "metadata": {
        "id": "aLkLoAC2uaem"
      },
      "source": [
        "\n",
        "\n",
        "---\n",
        "\n"
      ]
    },
    {
      "cell_type": "markdown",
      "metadata": {
        "id": "UwmdcLTNuhKJ"
      },
      "source": [
        "# HMM - Hidden Markov Model"
      ]
    },
    {
      "cell_type": "code",
      "metadata": {
        "id": "yNH5gWKhupeT"
      },
      "source": [
        "# Transition Probabilities\n",
        "P_SS = 0.8\n",
        "P_SR = 0.2\n",
        "P_RS = 0.4\n",
        "P_RR = 0.6\n",
        "\n",
        "# Initial Probabilities\n",
        "P_S = 2/3\n",
        "P_R = 1/3\n",
        "\n",
        "# Emission Probabilities\n",
        "P_SH = 0.8\n",
        "P_SG = 0.2\n",
        "P_RH = 0.4\n",
        "P_RG = 0.6"
      ],
      "execution_count": null,
      "outputs": []
    },
    {
      "cell_type": "code",
      "metadata": {
        "id": "SBe6a7hMbY7n"
      },
      "source": [
        "moods = [\"H\", \"H\", \"G\", \"G\", \"G\", \"H\"]\n",
        "probabilities = []\n",
        "weather = []"
      ],
      "execution_count": null,
      "outputs": []
    },
    {
      "cell_type": "code",
      "metadata": {
        "id": "jnfA7J2bblFF"
      },
      "source": [
        "if moods[0] == \"H\":\n",
        "    probabilities.append((P_S * P_SH, P_R * P_RH))\n",
        "else:\n",
        "    probabilities.append((P_S * P_SG, P_R * P_RG))"
      ],
      "execution_count": null,
      "outputs": []
    },
    {
      "cell_type": "code",
      "metadata": {
        "id": "vjBEc1mvcoij"
      },
      "source": [
        "for i in range(1, len(moods)):\n",
        "    yesterday_sunny, yesterday_rainy = probabilities[-1]\n",
        "    if moods[i] == \"H\":\n",
        "        today_sunny = max(yesterday_sunny * P_SS * P_SH, \n",
        "                                            yesterday_rainy * P_RS * P_SH)\n",
        "        today_rainy = max(yesterday_sunny * P_SR * P_RH,\n",
        "                                            yesterday_rainy * P_RR * P_RH)\n",
        "        probabilities.append((today_sunny, today_rainy))\n",
        "    else:\n",
        "        today_sunny = max(yesterday_sunny * P_SS * P_SG, \n",
        "                                            yesterday_rainy * P_RS * P_SG)\n",
        "        today_rainy = max(yesterday_sunny * P_SR * P_RG,\n",
        "                                            yesterday_rainy * P_RR * P_RG)\n",
        "        probabilities.append((today_sunny, today_rainy))"
      ],
      "execution_count": null,
      "outputs": []
    },
    {
      "cell_type": "code",
      "metadata": {
        "id": "1UXTMXe0lXld"
      },
      "source": [
        "for p in probabilities:\n",
        "    if p[0] > p[1]:\n",
        "        weather.append(\"S\")\n",
        "    else:\n",
        "        weather.append(\"R\")"
      ],
      "execution_count": null,
      "outputs": []
    },
    {
      "cell_type": "code",
      "metadata": {
        "colab": {
          "base_uri": "https://localhost:8080/"
        },
        "id": "Zu7v7ryemVnN",
        "outputId": "9920d853-2ca2-4f54-e23f-e0f3576d9c52"
      },
      "source": [
        "weather"
      ],
      "execution_count": null,
      "outputs": [
        {
          "output_type": "execute_result",
          "data": {
            "text/plain": [
              "['S', 'S', 'S', 'R', 'R', 'S']"
            ]
          },
          "metadata": {},
          "execution_count": 29
        }
      ]
    }
  ]
}